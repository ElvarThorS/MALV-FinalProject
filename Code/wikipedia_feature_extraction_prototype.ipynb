{
 "cells": [
  {
   "cell_type": "code",
   "execution_count": null,
   "metadata": {
    "collapsed": true,
    "id": "Xiq_otNaiz8y"
   },
   "outputs": [],
   "source": [
    "!pip install datasets"
   ]
  },
  {
   "cell_type": "code",
   "execution_count": 4,
   "metadata": {
    "id": "YeFBTfHZibo3"
   },
   "outputs": [],
   "source": [
    "# import torch\n",
    "# from transformers import BertTokenizer, BertForSequenceClassification, Trainer, TrainingArguments, EarlyStoppingCallback\n",
    "from datasets import load_dataset, Dataset\n",
    "from datasets import load_dataset_builder\n",
    "from datasets import get_dataset_split_names\n"
   ]
  },
  {
   "cell_type": "code",
   "execution_count": null,
   "metadata": {
    "id": "LJcqsZadkESB"
   },
   "outputs": [],
   "source": [
    "ds_builder = load_dataset_builder(\"wikimedia/structured-wikipedia\", \"20240916.en\")"
   ]
  },
  {
   "cell_type": "code",
   "execution_count": null,
   "metadata": {
    "collapsed": true,
    "id": "RdSDt44zkPzZ"
   },
   "outputs": [],
   "source": [
    "ds_builder.info.features"
   ]
  },
  {
   "cell_type": "code",
   "execution_count": null,
   "metadata": {
    "colab": {
     "base_uri": "https://localhost:8080/"
    },
    "id": "RePvGKuikuO7",
    "outputId": "814e212c-686c-49b0-92d0-77f2024d349a"
   },
   "outputs": [
    {
     "data": {
      "text/plain": [
       "['train']"
      ]
     },
     "execution_count": 139,
     "metadata": {},
     "output_type": "execute_result"
    }
   ],
   "source": [
    "get_dataset_split_names(\"wikimedia/structured-wikipedia\", \"20240916.en\")"
   ]
  },
  {
   "cell_type": "code",
   "execution_count": 5,
   "metadata": {
    "colab": {
     "base_uri": "https://localhost:8080/",
     "height": 173,
     "referenced_widgets": [
      "436b274b317d4d949c31e3da2a8a52dd",
      "941f7bd41d124b5e94ac3d1647d2391e",
      "547528a0cb02447a80ca0a10561a326f",
      "fdc9465c83c145a4907df18eefc8795a",
      "9f22fd2227104952a296fb0e5edc6b9a",
      "fab76665cce84d1dabb9d98182976492",
      "8febdc09f0dd4b0c9d8af22473cb5756",
      "7e100d25c31842008e9c56eea55f3822",
      "2c7949ba91134333b31ea01e41d26ad1",
      "84510b5dbcca494d873b32e980952d7d",
      "8b3354b17f79447cbd345c692dd18fcd"
     ]
    },
    "id": "xyR9dTt5igIv",
    "outputId": "a76d51ca-c48f-4248-9299-6e31b2141a03"
   },
   "outputs": [
    {
     "name": "stderr",
     "output_type": "stream",
     "text": [
      "/usr/local/lib/python3.10/dist-packages/huggingface_hub/utils/_token.py:89: UserWarning: \n",
      "The secret `HF_TOKEN` does not exist in your Colab secrets.\n",
      "To authenticate with the Hugging Face Hub, create a token in your settings tab (https://huggingface.co/settings/tokens), set it as secret in your Google Colab and restart your session.\n",
      "You will be able to reuse this secret in all of your notebooks.\n",
      "Please note that authentication is recommended but still optional to access public models or datasets.\n",
      "  warnings.warn(\n"
     ]
    },
    {
     "data": {
      "application/vnd.jupyter.widget-view+json": {
       "model_id": "436b274b317d4d949c31e3da2a8a52dd",
       "version_major": 2,
       "version_minor": 0
      },
      "text/plain": [
       "README.md:   0%|          | 0.00/43.5k [00:00<?, ?B/s]"
      ]
     },
     "metadata": {},
     "output_type": "display_data"
    }
   ],
   "source": [
    "datasets = load_dataset(\n",
    "    \"wikimedia/structured-wikipedia\", \"20240916.en\", split=\"train\", streaming=True)"
   ]
  },
  {
   "cell_type": "code",
   "execution_count": 6,
   "metadata": {
    "colab": {
     "base_uri": "https://localhost:8080/"
    },
    "id": "M7FhuxQ-hKVv",
    "outputId": "9fe9ed2f-96e8-4ad7-cac1-79ce263e9280"
   },
   "outputs": [
    {
     "data": {
      "text/plain": [
       "IterableDataset({\n",
       "    features: ['name', 'identifier', 'abstract', 'version', 'event', 'url', 'date_created', 'date_modified', 'is_part_of', 'in_language', 'license', 'description', 'sections', 'infoboxes', 'main_entity', 'additional_entities', 'image'],\n",
       "    num_shards: 1\n",
       "})"
      ]
     },
     "execution_count": 6,
     "metadata": {},
     "output_type": "execute_result"
    }
   ],
   "source": [
    "datasets"
   ]
  },
  {
   "cell_type": "code",
   "execution_count": 26,
   "metadata": {
    "colab": {
     "base_uri": "https://localhost:8080/"
    },
    "id": "sOuHBATdXHXj",
    "outputId": "e5b1e3f1-ac12-4b90-fe87-6a1834bb2741"
   },
   "outputs": [
    {
     "name": "stdout",
     "output_type": "stream",
     "text": [
      "name is <class 'str'>\n",
      "identifier is <class 'int'>\n",
      "abstract is <class 'NoneType'>\n",
      "version is <class 'dict'>\n",
      "event is <class 'dict'>\n",
      "url is <class 'str'>\n",
      "date_created is <class 'datetime.datetime'>\n",
      "date_modified is <class 'datetime.datetime'>\n",
      "is_part_of is <class 'dict'>\n",
      "in_language is <class 'dict'>\n",
      "license is <class 'list'>\n",
      "description is <class 'str'>\n",
      "sections is <class 'list'>\n",
      "infoboxes is <class 'NoneType'>\n",
      "main_entity is <class 'NoneType'>\n",
      "additional_entities is <class 'NoneType'>\n",
      "image is <class 'NoneType'>\n",
      "\n",
      "\n",
      "\n"
     ]
    }
   ],
   "source": [
    "# feature data types. Need to know for processing the data.\n",
    "# need to iterate over more to get all, since empty features will return NoneType\n",
    "i = 0\n",
    "for entry in datasets:\n",
    "  for key in entry.keys():\n",
    "    print(f\"{key} is {type(entry[key])}\")\n",
    "  print(\"\\n\\n\")\n",
    "  i += 1\n",
    "  if i == 1: break"
   ]
  },
  {
   "cell_type": "code",
   "execution_count": 28,
   "metadata": {
    "colab": {
     "base_uri": "https://localhost:8080/"
    },
    "id": "hFR4-ju4Yfkf",
    "outputId": "781971b8-b909-4339-f779-a0d34fcf514d"
   },
   "outputs": [
    {
     "name": "stdout",
     "output_type": "stream",
     "text": [
      "Not Again SU\n",
      "https://en.wikipedia.org/wiki/Not_Again_SU\n",
      "<class 'list'>\n",
      "3\n",
      "Abstract\n",
      "Introduction:\n",
      "Demands:\n",
      "===============\n"
     ]
    }
   ],
   "source": [
    "# Subsection types/names Examples (when looking at the links, the dataset seems to miss some subsections)\n",
    "i = 0\n",
    "for entry in datasets:\n",
    "  print(entry['name'])\n",
    "  print(entry['url'])\n",
    "  print(type(entry['sections']))\n",
    "  print(len(entry['sections']))\n",
    "  for i in range(len(entry['sections'])):\n",
    "    print(entry['sections'][i]['name'])\n",
    "  print(\"===============\")\n",
    "  i += 1\n",
    "  if i == 3: break"
   ]
  },
  {
   "cell_type": "code",
   "execution_count": 18,
   "metadata": {
    "colab": {
     "base_uri": "https://localhost:8080/"
    },
    "id": "2cLEG-CRkaoe",
    "outputId": "a55c5e9b-9c50-437b-91a4-10aa650b241e"
   },
   "outputs": [
    {
     "name": "stdout",
     "output_type": "stream",
     "text": [
      "{'type': 'section', 'name': 'Abstract', 'has_parts': None}\n",
      "{'type': 'section', 'name': 'Abstract', 'has_parts': [{'type': 'list', 'value': None, 'links': None, 'name': None, 'has_parts': [{'type': 'list_item', 'value': 'REDIRECT List of Suits characters#Mike Ross', 'links': [{'url': 'https://en.wikipedia.org/wiki/List_of_Suits_characters#Mike_Ross', 'text': 'List of Suits characters#Mike Ross', 'images': None}], 'has_parts': None, 'name': None}]}]}\n",
      "{'type': 'section', 'name': 'Abstract', 'has_parts': [{'type': 'paragraph', 'value': 'REDIRECT # Second Polish Republic', 'links': [{'url': 'https://en.wikipedia.org/wiki/Second_Polish_Republic', 'text': 'Second Polish Republic', 'images': None}], 'name': None, 'has_parts': None}]}\n",
      "{'type': 'section', 'name': 'Abstract', 'has_parts': [{'type': 'list', 'value': None, 'links': None, 'name': None, 'has_parts': [{'type': 'list_item', 'value': 'REDIRECT Writing system#Directionality', 'links': [{'url': 'https://en.wikipedia.org/wiki/Writing_system#Directionality', 'text': 'Writing system#Directionality', 'images': None}], 'has_parts': None, 'name': None}]}]}\n",
      "{'type': 'section', 'name': 'Abstract', 'has_parts': [{'type': 'paragraph', 'value': 'Events from the year 1442 in France', 'links': [{'url': 'https://en.wikipedia.org/wiki/France', 'text': 'France', 'images': None}], 'name': None, 'has_parts': None}]}\n"
     ]
    }
   ],
   "source": [
    "# Looking at examples of the sections feature, this is where the text is stored and also where the hyperlinks are stored.\n",
    "\n",
    "i = 0\n",
    "for entry in datasets:\n",
    "  print(entry['sections'][0])\n",
    "  i += 1\n",
    "  if i == 5: break\n"
   ]
  },
  {
   "cell_type": "code",
   "execution_count": null,
   "metadata": {
    "id": "ekM8Own09F36"
   },
   "outputs": [],
   "source": [
    "# Example of feature extraction.\n",
    "# Trying to pull out number of links per entry, the urls of the links, the length of the text in characters, and the text itself.\n",
    "\n",
    "dataset_urls = []\n",
    "dataset_links = []\n",
    "dataset_charlengths = []\n",
    "dataset_texts = []\n",
    "\n",
    "# we will look at i number of entried from the streaming dataset, the value for i is set at the end of the for loop\n",
    "i = 0\n",
    "\n",
    "for entry in datasets:\n",
    "  # Only looks at first section, which is Abstract. Need to loop over full section list later\n",
    "  # type(entry['sections']) is List\n",
    "  links = 0\n",
    "  urls =[]\n",
    "  charlength = 0\n",
    "  text = \"\"\n",
    "  ### print(entry['name'])\n",
    "  ### print(entry['url'])\n",
    "\n",
    "  # check if 'sections' is empty or y\n",
    "  if isinstance(entry['sections'], list):\n",
    "    for key in entry['sections'][0].keys():\n",
    "      subsection = entry['sections'][0][key]\n",
    "      if key == 'has_parts' and isinstance(subsection, list):\n",
    "        for sub_dict in subsection:\n",
    "          for sub_key in sub_dict.keys():\n",
    "\n",
    "            # Get text and character length from \"value\" if \"type\": \"paragraph\"\n",
    "            if sub_dict[sub_key] == 'paragraph':\n",
    "              charlength += len(sub_dict['value'])\n",
    "              text += sub_dict['value']\n",
    "\n",
    "            # Get link count and URLs from \"links\" if \"links\" contains a list (i.e. not NoneType)\n",
    "            if sub_key == 'links':\n",
    "              if isinstance(sub_dict[sub_key], list):\n",
    "                links += len(sub_dict[sub_key])\n",
    "                for link in sub_dict[sub_key]:\n",
    "                  urls.append(link['url'])\n",
    "\n",
    "            # If \"has_parts\" contains a list (i.e. not NoneType) then there is another layer that could contain more links\n",
    "            if sub_key == 'has_parts' and isinstance(sub_dict[sub_key], list):\n",
    "              subsubsection = sub_dict[sub_key]\n",
    "              for subsub_dict in subsubsection:\n",
    "                for subsub_key in subsub_dict.keys():\n",
    "                  if subsub_key == 'links':\n",
    "                    if isinstance(subsub_dict[subsub_key], list):\n",
    "                      links += len(subsub_dict[subsub_key])\n",
    "                      for link in subsub_dict[subsub_key]:\n",
    "                        urls.append(link['url'])\n",
    "\n",
    "                  # Check if there is another layer deeper, didn't find any after checking 10,000 entries\n",
    "                  if subsub_key == 'has_parts' and isinstance(subsub_dict[subsub_key], list):\n",
    "                    print(\"##there is even deeper to go\")\n",
    "\n",
    "  # append features to dataset-wide lists\n",
    "  dataset_texts.append(text)\n",
    "  dataset_charlengths.append(charlength)\n",
    "  dataset_urls.append(urls)\n",
    "  dataset_links.append(links)\n",
    "\n",
    "  i += 1\n",
    "  if i == 500: break\n",
    "\n",
    "print(dataset_links)\n",
    "print(dataset_urls)\n",
    "print(dataset_charlengths)\n",
    "# print(dataset_texts)"
   ]
  },
  {
   "cell_type": "code",
   "execution_count": 34,
   "metadata": {
    "colab": {
     "base_uri": "https://localhost:8080/"
    },
    "collapsed": true,
    "id": "sxlADJjILV62",
    "outputId": "2e9ededb-b2ef-4627-e525-e9d247e21638"
   },
   "outputs": [
    {
     "name": "stdout",
     "output_type": "stream",
     "text": [
      "##there is even deeper to go\n",
      "##there is even deeper to go\n",
      "##there is even deeper to go\n",
      "##there is even deeper to go\n",
      "##there is even deeper to go\n",
      "##there is even deeper to go\n",
      "##there is even deeper to go\n",
      "##there is even deeper to go\n",
      "##there is even deeper to go\n",
      "##there is even deeper to go\n",
      "##there is even deeper to go\n",
      "##there is even deeper to go\n",
      "##there is even deeper to go\n",
      "##there is even deeper to go\n",
      "##there is even deeper to go\n",
      "##there is even deeper to go\n",
      "##there is even deeper to go\n",
      "##there is even deeper to go\n",
      "##there is even deeper to go\n",
      "##there is even deeper to go\n",
      "##there is even deeper to go\n",
      "##there is even deeper to go\n",
      "##there is even deeper to go\n",
      "##there is even deeper to go\n",
      "##there is even deeper to go\n",
      "##there is even deeper to go\n",
      "##there is even deeper to go\n",
      "##there is even deeper to go\n",
      "##there is even deeper to go\n",
      "##there is even deeper to go\n",
      "##there is even deeper to go\n",
      "##there is even deeper to go\n",
      "##there is even deeper to go\n",
      "##there is even deeper to go\n",
      "##there is even deeper to go\n",
      "##there is even deeper to go\n",
      "##there is even deeper to go\n",
      "##there is even deeper to go\n",
      "##there is even deeper to go\n",
      "##there is even deeper to go\n",
      "##there is even deeper to go\n",
      "##there is even deeper to go\n",
      "##there is even deeper to go\n",
      "##there is even deeper to go\n",
      "##there is even deeper to go\n",
      "##there is even deeper to go\n",
      "##there is even deeper to go\n",
      "##there is even deeper to go\n",
      "##there is even deeper to go\n",
      "##there is even deeper to go\n",
      "##there is even deeper to go\n",
      "##there is even deeper to go\n",
      "##there is even deeper to go\n",
      "##there is even deeper to go\n",
      "##there is even deeper to go\n",
      "##there is even deeper to go\n",
      "##there is even deeper to go\n",
      "##there is even deeper to go\n",
      "##there is even deeper to go\n",
      "##there is even deeper to go\n",
      "##there is even deeper to go\n",
      "##there is even deeper to go\n",
      "##there is even deeper to go\n",
      "##there is even deeper to go\n",
      "##there is even deeper to go\n",
      "##there is even deeper to go\n",
      "##there is even deeper to go\n",
      "##there is even deeper to go\n",
      "##there is even deeper to go\n",
      "##there is even deeper to go\n",
      "##there is even deeper to go\n",
      "##there is even deeper to go\n",
      "##there is even deeper to go\n",
      "##there is even deeper to go\n",
      "##there is even deeper to go\n",
      "##there is even deeper to go\n",
      "##there is even deeper to go\n",
      "##there is even deeper to go\n",
      "##there is even deeper to go\n",
      "##there is even deeper to go\n",
      "##there is even deeper to go\n",
      "##there is even deeper to go\n",
      "##there is even deeper to go\n",
      "##there is even deeper to go\n",
      "##there is even deeper to go\n",
      "##there is even deeper to go\n",
      "##there is even deeper to go\n",
      "##there is even deeper to go\n",
      "##there is even deeper to go\n",
      "##there is even deeper to go\n",
      "##there is even deeper to go\n",
      "##there is even deeper to go\n",
      "##there is even deeper to go\n",
      "##there is even deeper to go\n",
      "##there is even deeper to go\n",
      "##there is even deeper to go\n",
      "##there is even deeper to go\n",
      "##there is even deeper to go\n",
      "##there is even deeper to go\n",
      "##there is even deeper to go\n",
      "##there is even deeper to go\n",
      "##there is even deeper to go\n",
      "##there is even deeper to go\n",
      "##there is even deeper to go\n",
      "##there is even deeper to go\n",
      "##there is even deeper to go\n",
      "##there is even deeper to go\n",
      "##there is even deeper to go\n",
      "##there is even deeper to go\n",
      "##there is even deeper to go\n",
      "##there is even deeper to go\n",
      "##there is even deeper to go\n",
      "##there is even deeper to go\n",
      "##there is even deeper to go\n",
      "##there is even deeper to go\n",
      "##there is even deeper to go\n",
      "##there is even deeper to go\n",
      "##there is even deeper to go\n",
      "##there is even deeper to go\n",
      "##there is even deeper to go\n",
      "##there is even deeper to go\n",
      "##there is even deeper to go\n",
      "##there is even deeper to go\n",
      "##there is even deeper to go\n",
      "##there is even deeper to go\n",
      "##there is even deeper to go\n",
      "##there is even deeper to go\n",
      "##there is even deeper to go\n",
      "##there is even deeper to go\n",
      "##there is even deeper to go\n",
      "##there is even deeper to go\n",
      "##there is even deeper to go\n",
      "##there is even deeper to go\n",
      "##there is even deeper to go\n",
      "##there is even deeper to go\n",
      "##there is even deeper to go\n",
      "##there is even deeper to go\n",
      "##there is even deeper to go\n",
      "##there is even deeper to go\n",
      "##there is even deeper to go\n",
      "##there is even deeper to go\n",
      "##there is even deeper to go\n",
      "##there is even deeper to go\n",
      "##there is even deeper to go\n",
      "##there is even deeper to go\n",
      "##there is even deeper to go\n",
      "##there is even deeper to go\n",
      "##there is even deeper to go\n",
      "##there is even deeper to go\n",
      "##there is even deeper to go\n",
      "##there is even deeper to go\n",
      "##there is even deeper to go\n",
      "##there is even deeper to go\n",
      "##there is even deeper to go\n",
      "##there is even deeper to go\n",
      "##there is even deeper to go\n",
      "##there is even deeper to go\n",
      "##there is even deeper to go\n",
      "##there is even deeper to go\n",
      "##there is even deeper to go\n",
      "##there is even deeper to go\n",
      "##there is even deeper to go\n",
      "##there is even deeper to go\n",
      "##there is even deeper to go\n",
      "##there is even deeper to go\n",
      "##there is even deeper to go\n",
      "##there is even deeper to go\n",
      "##there is even deeper to go\n",
      "##there is even deeper to go\n",
      "##there is even deeper to go\n",
      "##there is even deeper to go\n",
      "##there is even deeper to go\n",
      "##there is even deeper to go\n",
      "##there is even deeper to go\n",
      "##there is even deeper to go\n",
      "##there is even deeper to go\n",
      "##there is even deeper to go\n",
      "##there is even deeper to go\n",
      "##there is even deeper to go\n",
      "##there is even deeper to go\n",
      "##there is even deeper to go\n",
      "##there is even deeper to go\n",
      "##there is even deeper to go\n",
      "##there is even deeper to go\n",
      "##there is even deeper to go\n",
      "##there is even deeper to go\n",
      "##there is even deeper to go\n",
      "##there is even deeper to go\n",
      "##there is even deeper to go\n",
      "##there is even deeper to go\n",
      "##there is even deeper to go\n",
      "##there is even deeper to go\n",
      "##there is even deeper to go\n",
      "##there is even deeper to go\n",
      "##there is even deeper to go\n",
      "##there is even deeper to go\n",
      "##there is even deeper to go\n",
      "##there is even deeper to go\n",
      "##there is even deeper to go\n",
      "##there is even deeper to go\n",
      "##there is even deeper to go\n",
      "##there is even deeper to go\n",
      "##there is even deeper to go\n",
      "##there is even deeper to go\n",
      "##there is even deeper to go\n",
      "[0, 1, 1, 1, 5, 8, 7, 418, 24, 0, 1, 55, 47, 66, 19, 6, 25, 38, 1, 1, 22, 4, 7, 18, 6, 20, 13, 1, 6, 3, 0, 8, 20, 6, 7, 25, 0, 2, 10, 9, 5, 6, 4, 30, 1, 5, 26, 21, 52, 3, 8, 16, 14, 3, 0, 3, 19, 2, 5, 23, 12, 5, 16, 56, 6, 8, 7, 5, 4, 2, 71, 9, 9, 2, 8, 1, 1, 25, 2, 4, 1, 22, 2, 4, 2, 6, 34, 1, 21, 0, 7, 16, 11, 22, 2, 39, 7, 5, 5, 1, 8, 28, 9, 8, 7, 4, 2, 19, 50, 2, 4, 8, 45, 1, 39, 2, 14, 2, 5, 4, 71, 26, 10, 1, 29, 4, 1, 6, 2, 2, 5, 3, 73, 20, 5, 3, 2, 19, 10, 99, 12, 0, 2, 7, 5, 8, 5, 1, 10, 7, 9, 31, 182, 0, 6, 8, 9, 21, 15, 1, 46, 5, 52, 13, 5, 9, 9, 0, 9, 17, 0, 3, 3, 8, 5, 5, 3, 22, 5, 46, 54, 2, 0, 5, 4, 7, 3, 13, 2, 5, 17, 37, 3, 17, 2, 6, 7, 58, 7, 0, 11, 6, 4, 116, 8, 0, 5, 6, 7, 5, 30, 6, 5, 10, 29, 139, 5, 6, 5, 3, 8, 4, 9, 8, 5, 7, 7, 10, 5, 75, 4, 32, 4, 3, 5, 4, 10, 12, 22, 7, 5, 0, 17, 9, 11, 16, 12, 4, 8, 45, 32, 0, 1, 16, 9, 5, 2, 0, 3, 88, 25, 3, 73, 12, 18, 22, 14, 26, 17, 7, 13, 14, 7, 26, 26, 29, 151, 10, 11, 4, 37, 4, 11, 10, 2, 7, 4, 13, 4, 3, 7, 48, 5, 5, 4, 25, 3, 96, 6, 10, 13, 41, 44, 5, 1, 15, 10, 16, 13, 12, 2, 0, 3, 0, 6, 19, 4, 21, 3, 6, 1, 4, 0, 4, 38, 0, 3, 3, 0, 12, 2, 9, 6, 15, 12, 14, 14, 5, 10, 26, 3, 16, 12, 3, 2, 3, 8, 18, 3, 34, 2, 6, 14, 8, 1, 48, 2, 24, 9, 4, 10, 18, 0, 9, 3, 14, 20, 1, 14, 15, 1, 15, 37, 6, 4, 3, 68, 5, 3, 7, 1, 12, 99, 2, 141, 17, 5, 25, 13, 3, 7, 15, 0, 34, 3, 0, 51, 2, 1, 12, 4, 5, 12, 33, 44, 6, 6, 0, 15, 5, 34, 4, 3, 12, 5, 5, 4, 5, 9, 17, 13, 2, 6, 18, 18, 6, 6, 2, 0, 13, 1, 6, 23, 0, 6, 1, 7, 18, 4, 13, 3, 62, 5, 44, 38, 2, 30, 9, 7, 5, 15, 3, 24, 12, 18, 4, 1, 6, 6, 7, 18, 8, 13, 9, 48, 4, 13, 0, 3, 4, 3, 30, 26, 6, 1, 9, 15, 7, 8, 4, 13, 1, 10, 7, 24, 3, 4, 7, 4, 33, 14, 5, 2, 19, 22, 87, 8, 1, 1, 4]\n",
      "[2741, 0, 33, 0, 35, 1086, 396, 511, 1014, 2877, 0, 1813, 1499, 35, 1117, 237, 3089, 1712, 219, 35, 1200, 503, 409, 1394, 178, 30, 6339, 102, 411, 227, 9, 202, 1033, 499, 358, 1103, 0, 127, 277, 408, 593, 315, 265, 2057, 33, 365, 1038, 1226, 6097, 515, 2057, 82, 1964, 156, 260, 286, 187, 62, 424, 1213, 2474, 37, 690, 4988, 319, 1396, 589, 242, 81, 138, 47, 870, 295, 27, 604, 0, 516, 2665, 117, 17, 0, 2645, 506, 182, 65, 655, 842, 82, 801, 18, 763, 426, 419, 515, 63, 1123, 485, 1222, 341, 0, 303, 1132, 1876, 580, 1314, 131, 34, 1542, 3125, 403, 340, 96, 2012, 108, 1472, 44, 1191, 35, 386, 287, 91, 4903, 823, 74, 4329, 386, 0, 184, 20, 122, 403, 188, 120, 613, 2171, 236, 790, 1481, 842, 12304, 75, 0, 245, 479, 324, 913, 478, 228, 933, 504, 475, 2793, 125, 891, 517, 407, 668, 1573, 1198, 0, 4394, 37, 76, 1036, 465, 1160, 284, 0, 556, 1439, 163, 239, 596, 556, 406, 336, 22, 1288, 337, 77, 36, 168, 0, 474, 39, 1459, 188, 380, 263, 62, 287, 3191, 242, 3437, 123, 177, 519, 114, 498, 323, 503, 116, 216, 324, 824, 11, 413, 311, 407, 319, 63, 382, 657, 484, 3923, 3951, 521, 321, 521, 265, 485, 254, 403, 1029, 466, 181, 395, 907, 303, 34, 1375, 2162, 252, 802, 291, 303, 539, 2116, 1723, 816, 682, 34, 1526, 548, 676, 36, 1296, 171, 2115, 1906, 2225, 0, 38, 950, 36, 403, 316, 0, 1215, 305, 99, 276, 2068, 1686, 2960, 1549, 905, 2980, 717, 553, 1146, 1192, 103, 2915, 2151, 47, 116, 977, 626, 152, 1451, 387, 656, 839, 92, 480, 195, 35, 206, 487, 515, 35, 3253, 326, 349, 3183, 34, 37, 1087, 899, 2046, 35, 2316, 174, 225, 35, 748, 491, 1664, 2564, 130, 0, 271, 0, 219, 2038, 349, 3542, 23, 25, 108, 299, 0, 270, 1806, 91, 446, 253, 0, 703, 181, 741, 622, 2665, 742, 633, 853, 309, 846, 1380, 241, 1189, 2752, 134, 274, 560, 35, 440, 55, 2402, 71, 138, 37, 1548, 87, 37, 92, 3584, 2389, 213, 803, 366, 83, 613, 719, 1782, 578, 170, 590, 400, 61, 857, 2298, 387, 94, 242, 37, 34, 202, 529, 501, 155, 6883, 117, 233, 171, 386, 433, 2424, 269, 322, 2488, 967, 3660, 37, 71, 470, 27, 40, 736, 31, 232, 477, 3409, 1780, 451, 755, 0, 966, 302, 2113, 266, 586, 35, 233, 730, 135, 272, 802, 1470, 1123, 147, 18, 2771, 396, 450, 257, 179, 0, 26, 272, 61, 324, 0, 1126, 0, 226, 937, 17, 34, 170, 1115, 313, 1794, 390, 34, 880, 570, 92, 210, 503, 297, 3086, 702, 1046, 250, 0, 594, 792, 164, 1169, 395, 1055, 609, 13384, 513, 370, 0, 234, 351, 372, 4388, 4163, 466, 0, 260, 90, 748, 1073, 391, 17, 363, 2433, 229, 1644, 106, 627, 285, 177, 1858, 36, 163, 237, 593, 853, 5438, 37, 128, 256, 191]\n"
     ]
    }
   ],
   "source": [
    "# This one looks over all sections in sections\n",
    "# Example of feature extraction.\n",
    "# Trying to pull out number of links per entry, the urls of the links, the length of the text in characters, and the text itself.\n",
    "\n",
    "dataset_urls = []\n",
    "dataset_links = []\n",
    "dataset_charlengths = []\n",
    "dataset_texts = []\n",
    "\n",
    "# we will look at i number of entried from the streaming dataset, the value for i is set at the end of the for loop\n",
    "i = 0\n",
    "\n",
    "for entry in datasets:\n",
    "  links = 0\n",
    "  urls =[]\n",
    "  charlength = 0\n",
    "  text = \"\"\n",
    "  ### print(entry['name'])\n",
    "  ### print(entry['url'])\n",
    "\n",
    "  # check if 'sections' is empty or y\n",
    "  if isinstance(entry['sections'], list):\n",
    "    for section in entry['sections']:\n",
    "      for key in section.keys():\n",
    "        # subsection = entry['sections'][0][key]\n",
    "        if key == 'has_parts' and isinstance(section[key], list):\n",
    "          for sub_dict in section[key]:\n",
    "            for sub_key in sub_dict.keys():\n",
    "\n",
    "              # Get text and character length from \"value\" if \"type\": \"paragraph\"\n",
    "              if sub_dict[sub_key] == 'paragraph':\n",
    "                charlength += len(sub_dict['value'])\n",
    "                text += sub_dict['value']\n",
    "\n",
    "              # Get link count and URLs from \"links\" if \"links\" contains a list (i.e. not NoneType)\n",
    "              if sub_key == 'links':\n",
    "                if isinstance(sub_dict[sub_key], list):\n",
    "                  links += len(sub_dict[sub_key])\n",
    "                  for link in sub_dict[sub_key]:\n",
    "                    urls.append(link['url'])\n",
    "\n",
    "              # If \"has_parts\" contains a list (i.e. not NoneType) then there is another layer that could contain more links\n",
    "              if sub_key == 'has_parts' and isinstance(sub_dict[sub_key], list):\n",
    "                subsubsection = sub_dict[sub_key]\n",
    "                for subsub_dict in subsubsection:\n",
    "                  for subsub_key in subsub_dict.keys():\n",
    "                    if subsub_key == 'links':\n",
    "                      if isinstance(subsub_dict[subsub_key], list):\n",
    "                        links += len(subsub_dict[subsub_key])\n",
    "                        for link in subsub_dict[subsub_key]:\n",
    "                          urls.append(link['url'])\n",
    "\n",
    "                    # Check if there is another layer deeper --> found some, need to work this out\n",
    "                    if subsub_key == 'has_parts' and isinstance(subsub_dict[subsub_key], list):\n",
    "                      print(\"##there is even deeper to go\")\n",
    "\n",
    "  # append features to dataset-wide lists\n",
    "  dataset_texts.append(text)\n",
    "  dataset_charlengths.append(charlength)\n",
    "  dataset_urls.append(urls)\n",
    "  dataset_links.append(links)\n",
    "\n",
    "  i += 1\n",
    "  if i == 500: break\n",
    "\n",
    "print(dataset_links)\n",
    "# print(dataset_urls)\n",
    "print(dataset_charlengths)\n",
    "# print(dataset_texts)"
   ]
  },
  {
   "cell_type": "code",
   "execution_count": 33,
   "metadata": {
    "colab": {
     "base_uri": "https://localhost:8080/"
    },
    "id": "Fgo4TYs3QePa",
    "outputId": "4392e7fa-cea0-4db6-e4e5-c36d521cbcaa"
   },
   "outputs": [
    {
     "name": "stdout",
     "output_type": "stream",
     "text": [
      "38197\n",
      "2070\n"
     ]
    }
   ],
   "source": [
    "print(max(dataset_charlengths))\n",
    "print(max(dataset_links))"
   ]
  },
  {
   "cell_type": "code",
   "execution_count": 25,
   "metadata": {
    "colab": {
     "base_uri": "https://localhost:8080/"
    },
    "id": "KcXH-YrTNerK",
    "outputId": "e454293a-18cd-48b7-a331-0e385438f4c3"
   },
   "outputs": [
    {
     "name": "stdout",
     "output_type": "stream",
     "text": [
      "Entry 1: \n",
      "https://en.wikipedia.org/wiki/Not_Again_SU\n",
      "{'type': 'section', 'name': 'Abstract', 'has_parts': None}\n",
      "{'type': 'section', 'name': 'Introduction:', 'has_parts': [{'type': 'paragraph', 'value': 'The hashtag and student led organization #NotAgainSU began circulating after several racist incidents occurred on the campus of Syracuse University, during the academic course of 2019-2021. Initial reports of racist paraphernalia occurred early November in the dorm buildings of first- and second-year undergraduate students. After nearly a month of daily reports, Syracuse students organized a sit-in where they occupied, and created an elaborate list of 19 demands for Chancellor Kent Syverud to sign. After several protests, some taking place at his persona residence, the list was signed with few revisions on November 21st.', 'links': None, 'name': None, 'has_parts': None}]}\n",
      "{'type': 'section', 'name': 'Demands:', 'has_parts': [{'type': 'paragraph', 'value': \"The #NotAgainSU protestors made a list of 19 demands to the University which was later expanded to 34 after Chancellor Kent Syverud signed the initial list. The protestor's demands focus on the improvement of marginalized student experiences on campus as well as improved University wide education on diversity with a specific focus on Anti-Racism.\", 'links': None, 'name': None, 'has_parts': None}, {'type': 'paragraph', 'value': 'The protestors called for punishments for the students involved in hate crimes and bias related incidents based on their level of involvement, reform of the SEM100 course now called FYS 101 and mandatory education of faculty and staff on diversity and anti-racism. The demands also included stronger anti-harassment policies, an open forum between the University and students in order for the grievances of marginalized students to be addressed and published updates from the University on their progress in meeting the protestors demands.', 'links': None, 'name': None, 'has_parts': None}, {'type': 'paragraph', 'value': 'In terms of the improvement of the experience of marginalized students on campus, the protestors demanded housing reforms including the prioritization of disabled students in the housing selection process and the use of roommate selection platforms such as My College Roomie in order for students to select roommates of similar backgrounds and interests. They demanded increased funding for counseling services which better represent marginalized students, development of a multicultural center, recognition of Multicultural Greek life and increased financial aid funding for students of color.', 'links': None, 'name': None, 'has_parts': None}, {'type': 'paragraph', 'value': 'The demands also addressed the protestors specific concerns with the administration and Department of Public Safety processes and procedures. These demands included timelier responses to racial incidences on campus and more transparency regarding these incidences. They also demanded an external review of the Department of Public Safety singling out Associate Chief John Sardino in their request. They also demanded the removal of multiple university administration leaders including Chancellor Kent Syverud, Senior VP for Enrollment and Student Experience Dolan Evanovich, DPS Chief Bobby Maldonado, and Deputy Chief John Sardino.', 'links': None, 'name': None, 'has_parts': None}]}\n",
      "\n",
      "\n",
      "Entry 2: \n",
      "https://en.wikipedia.org/wiki/Mike_Ross_(Suits)\n",
      "{'type': 'section', 'name': 'Abstract', 'has_parts': [{'type': 'list', 'value': None, 'links': None, 'name': None, 'has_parts': [{'type': 'list_item', 'value': 'REDIRECT List of Suits characters#Mike Ross', 'links': [{'url': 'https://en.wikipedia.org/wiki/List_of_Suits_characters#Mike_Ross', 'text': 'List of Suits characters#Mike Ross', 'images': None}], 'has_parts': None, 'name': None}]}]}\n",
      "\n",
      "\n",
      "Entry 3: \n",
      "https://en.wikipedia.org/wiki/Second_Polish_republic\n",
      "{'type': 'section', 'name': 'Abstract', 'has_parts': [{'type': 'paragraph', 'value': 'REDIRECT # Second Polish Republic', 'links': [{'url': 'https://en.wikipedia.org/wiki/Second_Polish_Republic', 'text': 'Second Polish Republic', 'images': None}], 'name': None, 'has_parts': None}]}\n",
      "\n",
      "\n",
      "Entry 4: \n",
      "https://en.wikipedia.org/wiki/Left-to-right_script\n",
      "{'type': 'section', 'name': 'Abstract', 'has_parts': [{'type': 'list', 'value': None, 'links': None, 'name': None, 'has_parts': [{'type': 'list_item', 'value': 'REDIRECT Writing system#Directionality', 'links': [{'url': 'https://en.wikipedia.org/wiki/Writing_system#Directionality', 'text': 'Writing system#Directionality', 'images': None}], 'has_parts': None, 'name': None}]}]}\n",
      "\n",
      "\n",
      "Entry 5: \n",
      "https://en.wikipedia.org/wiki/1442_in_France\n",
      "{'type': 'section', 'name': 'Abstract', 'has_parts': [{'type': 'paragraph', 'value': 'Events from the year 1442 in France', 'links': [{'url': 'https://en.wikipedia.org/wiki/France', 'text': 'France', 'images': None}], 'name': None, 'has_parts': None}]}\n",
      "{'type': 'section', 'name': 'Incumbents', 'has_parts': [{'type': 'list', 'value': None, 'links': None, 'name': None, 'has_parts': [{'type': 'list_item', 'value': 'Monarch – Charles VII', 'links': [{'url': 'https://en.wikipedia.org/wiki/List_of_French_monarchs', 'text': 'Monarch', 'images': None}, {'url': 'https://en.wikipedia.org/wiki/Charles_VII_of_France', 'text': 'Charles VII', 'images': None}], 'has_parts': None, 'name': None}]}]}\n",
      "{'type': 'section', 'name': 'Deaths', 'has_parts': [{'type': 'list', 'value': None, 'links': None, 'name': None, 'has_parts': [{'type': 'list_item', 'value': '29 August – John V, Duke of Brittany (born 1389)', 'links': [{'url': 'https://en.wikipedia.org/wiki/John_V,_Duke_of_Brittany', 'text': 'John V, Duke of Brittany', 'images': None}], 'has_parts': None, 'name': None}, {'type': 'list_item', 'value': '18 December – Pierre Cauchon, bishop (born 1371)', 'links': [{'url': 'https://en.wikipedia.org/wiki/Pierre_Cauchon', 'text': 'Pierre Cauchon', 'images': None}], 'has_parts': None, 'name': None}]}]}\n",
      "\n",
      "\n"
     ]
    }
   ],
   "source": [
    "# Confirming the above works\n",
    "\n",
    "i = 0\n",
    "for entry in datasets:\n",
    "  print(f\"Entry {i+1}: \")\n",
    "  print(entry['url'])\n",
    "  if isinstance(entry['sections'], list):\n",
    "    for section in entry['sections']:\n",
    "      print(section)\n",
    "      # for key in section.keys():\n",
    "      #   print(key)\n",
    "  print(\"\\n\")\n",
    "  i += 1\n",
    "  if i == 5: break"
   ]
  },
  {
   "cell_type": "code",
   "execution_count": null,
   "metadata": {
    "id": "dqdM_exzOrcl"
   },
   "outputs": [],
   "source": []
  }
 ],
 "metadata": {
  "colab": {
   "provenance": []
  },
  "kernelspec": {
   "display_name": ".venv",
   "language": "python",
   "name": "python3"
  },
  "language_info": {
   "name": "python",
   "version": "3.12.0"
  },
  "widgets": {
   "application/vnd.jupyter.widget-state+json": {
    "2c7949ba91134333b31ea01e41d26ad1": {
     "model_module": "@jupyter-widgets/controls",
     "model_module_version": "1.5.0",
     "model_name": "ProgressStyleModel",
     "state": {
      "_model_module": "@jupyter-widgets/controls",
      "_model_module_version": "1.5.0",
      "_model_name": "ProgressStyleModel",
      "_view_count": null,
      "_view_module": "@jupyter-widgets/base",
      "_view_module_version": "1.2.0",
      "_view_name": "StyleView",
      "bar_color": null,
      "description_width": ""
     }
    },
    "436b274b317d4d949c31e3da2a8a52dd": {
     "model_module": "@jupyter-widgets/controls",
     "model_module_version": "1.5.0",
     "model_name": "HBoxModel",
     "state": {
      "_dom_classes": [],
      "_model_module": "@jupyter-widgets/controls",
      "_model_module_version": "1.5.0",
      "_model_name": "HBoxModel",
      "_view_count": null,
      "_view_module": "@jupyter-widgets/controls",
      "_view_module_version": "1.5.0",
      "_view_name": "HBoxView",
      "box_style": "",
      "children": [
       "IPY_MODEL_941f7bd41d124b5e94ac3d1647d2391e",
       "IPY_MODEL_547528a0cb02447a80ca0a10561a326f",
       "IPY_MODEL_fdc9465c83c145a4907df18eefc8795a"
      ],
      "layout": "IPY_MODEL_9f22fd2227104952a296fb0e5edc6b9a"
     }
    },
    "547528a0cb02447a80ca0a10561a326f": {
     "model_module": "@jupyter-widgets/controls",
     "model_module_version": "1.5.0",
     "model_name": "FloatProgressModel",
     "state": {
      "_dom_classes": [],
      "_model_module": "@jupyter-widgets/controls",
      "_model_module_version": "1.5.0",
      "_model_name": "FloatProgressModel",
      "_view_count": null,
      "_view_module": "@jupyter-widgets/controls",
      "_view_module_version": "1.5.0",
      "_view_name": "ProgressView",
      "bar_style": "success",
      "description": "",
      "description_tooltip": null,
      "layout": "IPY_MODEL_7e100d25c31842008e9c56eea55f3822",
      "max": 43500,
      "min": 0,
      "orientation": "horizontal",
      "style": "IPY_MODEL_2c7949ba91134333b31ea01e41d26ad1",
      "value": 43500
     }
    },
    "7e100d25c31842008e9c56eea55f3822": {
     "model_module": "@jupyter-widgets/base",
     "model_module_version": "1.2.0",
     "model_name": "LayoutModel",
     "state": {
      "_model_module": "@jupyter-widgets/base",
      "_model_module_version": "1.2.0",
      "_model_name": "LayoutModel",
      "_view_count": null,
      "_view_module": "@jupyter-widgets/base",
      "_view_module_version": "1.2.0",
      "_view_name": "LayoutView",
      "align_content": null,
      "align_items": null,
      "align_self": null,
      "border": null,
      "bottom": null,
      "display": null,
      "flex": null,
      "flex_flow": null,
      "grid_area": null,
      "grid_auto_columns": null,
      "grid_auto_flow": null,
      "grid_auto_rows": null,
      "grid_column": null,
      "grid_gap": null,
      "grid_row": null,
      "grid_template_areas": null,
      "grid_template_columns": null,
      "grid_template_rows": null,
      "height": null,
      "justify_content": null,
      "justify_items": null,
      "left": null,
      "margin": null,
      "max_height": null,
      "max_width": null,
      "min_height": null,
      "min_width": null,
      "object_fit": null,
      "object_position": null,
      "order": null,
      "overflow": null,
      "overflow_x": null,
      "overflow_y": null,
      "padding": null,
      "right": null,
      "top": null,
      "visibility": null,
      "width": null
     }
    },
    "84510b5dbcca494d873b32e980952d7d": {
     "model_module": "@jupyter-widgets/base",
     "model_module_version": "1.2.0",
     "model_name": "LayoutModel",
     "state": {
      "_model_module": "@jupyter-widgets/base",
      "_model_module_version": "1.2.0",
      "_model_name": "LayoutModel",
      "_view_count": null,
      "_view_module": "@jupyter-widgets/base",
      "_view_module_version": "1.2.0",
      "_view_name": "LayoutView",
      "align_content": null,
      "align_items": null,
      "align_self": null,
      "border": null,
      "bottom": null,
      "display": null,
      "flex": null,
      "flex_flow": null,
      "grid_area": null,
      "grid_auto_columns": null,
      "grid_auto_flow": null,
      "grid_auto_rows": null,
      "grid_column": null,
      "grid_gap": null,
      "grid_row": null,
      "grid_template_areas": null,
      "grid_template_columns": null,
      "grid_template_rows": null,
      "height": null,
      "justify_content": null,
      "justify_items": null,
      "left": null,
      "margin": null,
      "max_height": null,
      "max_width": null,
      "min_height": null,
      "min_width": null,
      "object_fit": null,
      "object_position": null,
      "order": null,
      "overflow": null,
      "overflow_x": null,
      "overflow_y": null,
      "padding": null,
      "right": null,
      "top": null,
      "visibility": null,
      "width": null
     }
    },
    "8b3354b17f79447cbd345c692dd18fcd": {
     "model_module": "@jupyter-widgets/controls",
     "model_module_version": "1.5.0",
     "model_name": "DescriptionStyleModel",
     "state": {
      "_model_module": "@jupyter-widgets/controls",
      "_model_module_version": "1.5.0",
      "_model_name": "DescriptionStyleModel",
      "_view_count": null,
      "_view_module": "@jupyter-widgets/base",
      "_view_module_version": "1.2.0",
      "_view_name": "StyleView",
      "description_width": ""
     }
    },
    "8febdc09f0dd4b0c9d8af22473cb5756": {
     "model_module": "@jupyter-widgets/controls",
     "model_module_version": "1.5.0",
     "model_name": "DescriptionStyleModel",
     "state": {
      "_model_module": "@jupyter-widgets/controls",
      "_model_module_version": "1.5.0",
      "_model_name": "DescriptionStyleModel",
      "_view_count": null,
      "_view_module": "@jupyter-widgets/base",
      "_view_module_version": "1.2.0",
      "_view_name": "StyleView",
      "description_width": ""
     }
    },
    "941f7bd41d124b5e94ac3d1647d2391e": {
     "model_module": "@jupyter-widgets/controls",
     "model_module_version": "1.5.0",
     "model_name": "HTMLModel",
     "state": {
      "_dom_classes": [],
      "_model_module": "@jupyter-widgets/controls",
      "_model_module_version": "1.5.0",
      "_model_name": "HTMLModel",
      "_view_count": null,
      "_view_module": "@jupyter-widgets/controls",
      "_view_module_version": "1.5.0",
      "_view_name": "HTMLView",
      "description": "",
      "description_tooltip": null,
      "layout": "IPY_MODEL_fab76665cce84d1dabb9d98182976492",
      "placeholder": "​",
      "style": "IPY_MODEL_8febdc09f0dd4b0c9d8af22473cb5756",
      "value": "README.md: 100%"
     }
    },
    "9f22fd2227104952a296fb0e5edc6b9a": {
     "model_module": "@jupyter-widgets/base",
     "model_module_version": "1.2.0",
     "model_name": "LayoutModel",
     "state": {
      "_model_module": "@jupyter-widgets/base",
      "_model_module_version": "1.2.0",
      "_model_name": "LayoutModel",
      "_view_count": null,
      "_view_module": "@jupyter-widgets/base",
      "_view_module_version": "1.2.0",
      "_view_name": "LayoutView",
      "align_content": null,
      "align_items": null,
      "align_self": null,
      "border": null,
      "bottom": null,
      "display": null,
      "flex": null,
      "flex_flow": null,
      "grid_area": null,
      "grid_auto_columns": null,
      "grid_auto_flow": null,
      "grid_auto_rows": null,
      "grid_column": null,
      "grid_gap": null,
      "grid_row": null,
      "grid_template_areas": null,
      "grid_template_columns": null,
      "grid_template_rows": null,
      "height": null,
      "justify_content": null,
      "justify_items": null,
      "left": null,
      "margin": null,
      "max_height": null,
      "max_width": null,
      "min_height": null,
      "min_width": null,
      "object_fit": null,
      "object_position": null,
      "order": null,
      "overflow": null,
      "overflow_x": null,
      "overflow_y": null,
      "padding": null,
      "right": null,
      "top": null,
      "visibility": null,
      "width": null
     }
    },
    "fab76665cce84d1dabb9d98182976492": {
     "model_module": "@jupyter-widgets/base",
     "model_module_version": "1.2.0",
     "model_name": "LayoutModel",
     "state": {
      "_model_module": "@jupyter-widgets/base",
      "_model_module_version": "1.2.0",
      "_model_name": "LayoutModel",
      "_view_count": null,
      "_view_module": "@jupyter-widgets/base",
      "_view_module_version": "1.2.0",
      "_view_name": "LayoutView",
      "align_content": null,
      "align_items": null,
      "align_self": null,
      "border": null,
      "bottom": null,
      "display": null,
      "flex": null,
      "flex_flow": null,
      "grid_area": null,
      "grid_auto_columns": null,
      "grid_auto_flow": null,
      "grid_auto_rows": null,
      "grid_column": null,
      "grid_gap": null,
      "grid_row": null,
      "grid_template_areas": null,
      "grid_template_columns": null,
      "grid_template_rows": null,
      "height": null,
      "justify_content": null,
      "justify_items": null,
      "left": null,
      "margin": null,
      "max_height": null,
      "max_width": null,
      "min_height": null,
      "min_width": null,
      "object_fit": null,
      "object_position": null,
      "order": null,
      "overflow": null,
      "overflow_x": null,
      "overflow_y": null,
      "padding": null,
      "right": null,
      "top": null,
      "visibility": null,
      "width": null
     }
    },
    "fdc9465c83c145a4907df18eefc8795a": {
     "model_module": "@jupyter-widgets/controls",
     "model_module_version": "1.5.0",
     "model_name": "HTMLModel",
     "state": {
      "_dom_classes": [],
      "_model_module": "@jupyter-widgets/controls",
      "_model_module_version": "1.5.0",
      "_model_name": "HTMLModel",
      "_view_count": null,
      "_view_module": "@jupyter-widgets/controls",
      "_view_module_version": "1.5.0",
      "_view_name": "HTMLView",
      "description": "",
      "description_tooltip": null,
      "layout": "IPY_MODEL_84510b5dbcca494d873b32e980952d7d",
      "placeholder": "​",
      "style": "IPY_MODEL_8b3354b17f79447cbd345c692dd18fcd",
      "value": " 43.5k/43.5k [00:00&lt;00:00, 256kB/s]"
     }
    }
   }
  }
 },
 "nbformat": 4,
 "nbformat_minor": 0
}
